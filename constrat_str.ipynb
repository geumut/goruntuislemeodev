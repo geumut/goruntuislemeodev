{
 "cells": [
  {
   "cell_type": "code",
   "execution_count": null,
   "id": "c88283d9",
   "metadata": {},
   "outputs": [],
   "source": [
    "import cv2\n",
    "import numpy as np\n",
    "\n",
    "img = cv2.imread('abcd.jpg')\n",
    "original = img.copy()\n",
    "xp = [0, 64, 128, 192, 255]\n",
    "fp = [0, 16, 128, 240, 255]\n",
    "x = np.arange(256)\n",
    "table = np.interp(x, xp, fp).astype('uint8')\n",
    "img = cv2.LUT(img, table)\n",
    "cv2.imshow(\"original\", original)\n",
    "cv2.imshow(\"Output\", img)\n",
    "cv2.waitKey(0)\n",
    "cv2.destroyAllWindows() "
   ]
  }
 ],
 "metadata": {
  "kernelspec": {
   "display_name": "Python 3 (ipykernel)",
   "language": "python",
   "name": "python3"
  },
  "language_info": {
   "codemirror_mode": {
    "name": "ipython",
    "version": 3
   },
   "file_extension": ".py",
   "mimetype": "text/x-python",
   "name": "python",
   "nbconvert_exporter": "python",
   "pygments_lexer": "ipython3",
   "version": "3.11.5"
  }
 },
 "nbformat": 4,
 "nbformat_minor": 5
}
