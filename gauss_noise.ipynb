{
 "cells": [
  {
   "cell_type": "code",
   "execution_count": null,
   "id": "d005a333",
   "metadata": {},
   "outputs": [],
   "source": [
    "import cv2\n",
    "import numpy as np\n",
    "from scipy.stats.kde import gaussian_kde\n",
    "import matplotlib.pyplot as plt\n",
    "\n",
    "\n",
    "f = cv2.imread('./abcd.png', 0)\n",
    "f = f/255 \n",
    "\n",
    "cv2.imshow('original image', f)\n",
    "cv2.waitKey(0)\n",
    "cv2.destroyAllWindows()\n",
    "\n",
    "\n",
    "x, y = f.shape\n",
    "mean = 0\n",
    "var = 0.01\n",
    "sigma = np.sqrt(var)\n",
    "n = np.random.normal(loc=mean, \n",
    "                     scale=sigma, \n",
    "                     size=(x,y))\n",
    "\n",
    "cv2.imshow('Gaussian noise', n)\n",
    "cv2.waitKey(0)\n",
    "cv2.destroyAllWindows()\n",
    "\n",
    "\n",
    "kde = gaussian_kde(n.reshape(int(x*y)))\n",
    "dist_space = np.linspace(np.min(n), np.max(n), 100)\n",
    "plt.plot(dist_space, kde(dist_space))\n",
    "plt.xlabel('Noise pixel value'); plt.ylabel('Frequency')\n",
    "plt.show()\n",
    "\n",
    "\n",
    "g = f + n\n",
    "\n",
    "cv2.imshow('Corrupted Image', g)\n",
    "cv2.waitKey(0)\n",
    "cv2.destroyAllWindows()\n",
    "\n",
    "\n",
    "cv2.imshow('original image', f)\n",
    "cv2.imshow('Gaussian noise', n)\n",
    "cv2.imshow('Corrupted Image', g)\n",
    "\n",
    "cv2.waitKey(0)\n",
    "cv2.destroyAllWindows()"
   ]
  }
 ],
 "metadata": {
  "kernelspec": {
   "display_name": "Python 3 (ipykernel)",
   "language": "python",
   "name": "python3"
  },
  "language_info": {
   "codemirror_mode": {
    "name": "ipython",
    "version": 3
   },
   "file_extension": ".py",
   "mimetype": "text/x-python",
   "name": "python",
   "nbconvert_exporter": "python",
   "pygments_lexer": "ipython3",
   "version": "3.11.5"
  }
 },
 "nbformat": 4,
 "nbformat_minor": 5
}
