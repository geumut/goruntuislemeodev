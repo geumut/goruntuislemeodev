{
 "cells": [
  {
   "cell_type": "code",
   "execution_count": null,
   "id": "46ad6038",
   "metadata": {},
   "outputs": [],
   "source": [
    "import cv2\n",
    "img = cv2.imread('./abcd.jpg')\n",
    "gray = cv2.cvtColor(img, cv2.COLOR_BGR2GRAY)\n",
    "x = cv2.Sobel(gray, ddept, 1,0, ksize=3, scale=1)\n",
    "y = cv2.Sobel(gray, ddept, 0,1, ksize=3, scale=1)\n",
    "absx= cv2.convertScaleAbs(x)\n",
    "absy = cv2.convertScaleAbs(y)\n",
    "edge = cv2.addWeighted(absx, 0.5, absy, 0.5,0)\n",
    "cv2.imshow('edge', edge)\n",
    "cv2.waitKey(0)\n",
    "cv2.destroyAllWindows()"
   ]
  }
 ],
 "metadata": {
  "kernelspec": {
   "display_name": "Python 3 (ipykernel)",
   "language": "python",
   "name": "python3"
  },
  "language_info": {
   "codemirror_mode": {
    "name": "ipython",
    "version": 3
   },
   "file_extension": ".py",
   "mimetype": "text/x-python",
   "name": "python",
   "nbconvert_exporter": "python",
   "pygments_lexer": "ipython3",
   "version": "3.11.5"
  }
 },
 "nbformat": 4,
 "nbformat_minor": 5
}
