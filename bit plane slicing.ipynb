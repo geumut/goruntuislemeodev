{
 "cells": [
  {
   "cell_type": "code",
   "execution_count": null,
   "id": "fbc13cfb",
   "metadata": {},
   "outputs": [],
   "source": []
  },
  {
   "cell_type": "code",
   "execution_count": 1,
   "id": "a78d790c",
   "metadata": {},
   "outputs": [
    {
     "ename": "ModuleNotFoundError",
     "evalue": "No module named 'cv2'",
     "output_type": "error",
     "traceback": [
      "\u001b[1;31m---------------------------------------------------------------------------\u001b[0m",
      "\u001b[1;31mModuleNotFoundError\u001b[0m                       Traceback (most recent call last)",
      "Cell \u001b[1;32mIn[1], line 2\u001b[0m\n\u001b[0;32m      1\u001b[0m \u001b[38;5;28;01mimport\u001b[39;00m \u001b[38;5;21;01mnumpy\u001b[39;00m \u001b[38;5;28;01mas\u001b[39;00m \u001b[38;5;21;01mnp\u001b[39;00m\n\u001b[1;32m----> 2\u001b[0m \u001b[38;5;28;01mimport\u001b[39;00m \u001b[38;5;21;01mcv2\u001b[39;00m\n\u001b[0;32m      5\u001b[0m img \u001b[38;5;241m=\u001b[39m cv2\u001b[38;5;241m.\u001b[39mimread(\u001b[38;5;124m\"\u001b[39m\u001b[38;5;124mWIN_20170511_13_06_18_Pro.jpg\u001b[39m\u001b[38;5;124m\"\u001b[39m,cv2\u001b[38;5;241m.\u001b[39mIMREAD_GRAYSCALE)\n\u001b[0;32m      6\u001b[0m row ,col \u001b[38;5;241m=\u001b[39m img\u001b[38;5;241m.\u001b[39mshape\n",
      "\u001b[1;31mModuleNotFoundError\u001b[0m: No module named 'cv2'"
     ]
    }
   ],
   "source": [
    "import numpy as np\n",
    "import cv2\n",
    "\n",
    "\n",
    "img = cv2.imread(\"WIN_20170511_13_06_18_Pro.jpg\",cv2.IMREAD_GRAYSCALE)\n",
    "row ,col = img.shape\n",
    "\n",
    "def intToBitArray(img) :\n",
    "    list = []\n",
    "\n",
    "    for i in range(row):\n",
    "        for j in range(col):\n",
    "             list.append (np.binary_repr( img[i][j] ,width=8  ) )\n",
    "\n",
    "    return list \n",
    "imgIn1D = intToBitArray(img)\n",
    "imgIn2D = np.reshape(imgIn1D , (360,640) )\n",
    "def bitplane(bitImgVal , img1D ):\n",
    "\n",
    "    bitList = [  int(   i[bitImgVal]  )    for i in img1D]\n",
    "\n",
    "    return bitList\n",
    "\n",
    "eightbitimg = np.array( bitplane(0, imgIn1D ) ) * 128\n",
    "\n",
    "sevenbitimg = np.array( bitplane(1,imgIn1D) ) * 64\n",
    "\n",
    "combine = eightbitimg + sevenbitimg\n",
    "comb = np.reshape(combine,(row,col))\n",
    "\n",
    "cv2.imwrite(\"comb.jpeg\",comb)\n",
    "\n",
    "eightbitimg = np.reshape(eightbitimg,(row,col))\n",
    "cv2.imwrite(\"8bitvalue.jpg\" , eightbitimg )\n",
    "\n",
    "sevenbitimg = np.reshape(sevenbitimg,(row,col))\n",
    "cv2.imwrite(\"7bitvalue.jpg\",sevenbitimg)\n",
    "\n",
    "gray = cv2.imread(\"WIN_20170511_13_06_18_Pro.jpg\",cv2.IMREAD_GRAYSCALE)\n",
    "cv2.imwrite(\"gray.jpeg\",gray)"
   ]
  }
 ],
 "metadata": {
  "kernelspec": {
   "display_name": "Python 3 (ipykernel)",
   "language": "python",
   "name": "python3"
  },
  "language_info": {
   "codemirror_mode": {
    "name": "ipython",
    "version": 3
   },
   "file_extension": ".py",
   "mimetype": "text/x-python",
   "name": "python",
   "nbconvert_exporter": "python",
   "pygments_lexer": "ipython3",
   "version": "3.11.5"
  }
 },
 "nbformat": 4,
 "nbformat_minor": 5
}
