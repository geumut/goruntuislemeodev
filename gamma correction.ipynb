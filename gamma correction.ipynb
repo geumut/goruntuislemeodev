{
 "cells": [
  {
   "cell_type": "code",
   "execution_count": null,
   "id": "ad946c37",
   "metadata": {},
   "outputs": [],
   "source": [
    "import cv2\n",
    "import numpy as np\n",
    "import math\n",
    "\n",
    "img = cv2.imread('abcd.jpg')\n",
    "\n",
    "hsv = cv2.cvtColor(img, cv2.COLOR_BGR2HSV)\n",
    "hue, sat, val = cv2.split(hsv)\n",
    "\n",
    "mid = 0.5\n",
    "mean = np.mean(val)\n",
    "gamma = math.log(mid*255)/math.log(mean)\n",
    "print(gamma)\n",
    "\n",
    "val_gamma = np.power(val, gamma).clip(0,255).astype(np.uint8)\n",
    "\n",
    "hsv_gamma = cv2.merge([hue, sat, val_gamma])\n",
    "img_gamma2 = cv2.cvtColor(hsv_gamma, cv2.COLOR_HSV2BGR)\n",
    "\n",
    "cv2.imshow('input', img)\n",
    "cv2.imshow('result1', img_gamma1)\n",
    "cv2.imshow('result2', img_gamma2)\n",
    "cv2.waitKey(0)\n",
    "cv2.destroyAllWindows()\n",
    "\n",
    "cv2.imwrite('lioncuddle1_gamma1.jpg', img_gamma1)\n",
    "cv2.imwrite('lioncuddle1_gamma2.jpg', img_gamma2)"
   ]
  }
 ],
 "metadata": {
  "kernelspec": {
   "display_name": "Python 3 (ipykernel)",
   "language": "python",
   "name": "python3"
  },
  "language_info": {
   "codemirror_mode": {
    "name": "ipython",
    "version": 3
   },
   "file_extension": ".py",
   "mimetype": "text/x-python",
   "name": "python",
   "nbconvert_exporter": "python",
   "pygments_lexer": "ipython3",
   "version": "3.11.5"
  }
 },
 "nbformat": 4,
 "nbformat_minor": 5
}
