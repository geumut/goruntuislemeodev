{
 "cells": [
  {
   "cell_type": "code",
   "execution_count": null,
   "id": "0943a13c",
   "metadata": {},
   "outputs": [],
   "source": [
    "import cv2 \n",
    "import numpy as np \n",
    "  \n",
    "img = cv2.imread('./1', 0) \n",
    "  \n",
    "kernel = np.ones((5, 5), np.uint8) \n",
    "  \n",
    "img_erosion = cv2.erode(img, kernel, iterations=1) \n",
    "img_dilation = cv2.dilate(img, kernel, iterations=1) \n",
    "  \n",
    "cv2.imshow('Input', img) \n",
    "cv2.imshow('Erosion', img_erosion) \n",
    "cv2.imshow('Dilation', img_dilation) \n",
    "  \n",
    "cv2.waitKey(0) "
   ]
  }
 ],
 "metadata": {
  "kernelspec": {
   "display_name": "Python 3 (ipykernel)",
   "language": "python",
   "name": "python3"
  },
  "language_info": {
   "codemirror_mode": {
    "name": "ipython",
    "version": 3
   },
   "file_extension": ".py",
   "mimetype": "text/x-python",
   "name": "python",
   "nbconvert_exporter": "python",
   "pygments_lexer": "ipython3",
   "version": "3.11.5"
  }
 },
 "nbformat": 4,
 "nbformat_minor": 5
}
